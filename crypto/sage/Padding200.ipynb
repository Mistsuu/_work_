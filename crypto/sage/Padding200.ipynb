{
 "cells": [
  {
   "cell_type": "code",
   "execution_count": 4,
   "metadata": {},
   "outputs": [],
   "source": [
    "n = 95341235345618011251857577682324351171197688101180707030749869409235726634345899397258784261937590128088284421816891826202978052640992678267974129629670862991769812330793126662251062120518795878693122854189330426777286315442926939843468730196970939951374889986320771714519309125434348512571864406646232154103\n",
    "e = 3\n",
    "c = 63476139027102349822147098087901756023488558030079225358836870725611623045683759473454129221778690683914555720975250395929721681009556415292257804239149809875424000027362678341633901036035522299395660255954384685936351041718040558055860508481512479599089561391846007771856837130233678763953257086620228436828"
   ]
  },
  {
   "cell_type": "code",
   "execution_count": 5,
   "metadata": {},
   "outputs": [],
   "source": [
    "c1 = (c * inverse_mod((2^456)^3, n)) % n"
   ]
  },
  {
   "cell_type": "code",
   "execution_count": 30,
   "metadata": {},
   "outputs": [],
   "source": [
    "def trimZero(f):\n",
    "    while len(f) > 0 and f[-1] == 0:\n",
    "        f.pop()\n",
    "    return f\n",
    "\n",
    "def fillZero(f, lenFill):\n",
    "    assert len(f) <= lenFill\n",
    "    return f + [0] * (lenFill - len(f))\n",
    "        \n",
    "def modPoly(f, modulus):\n",
    "    r = f.copy()\n",
    "    for i in range(len(f)):\n",
    "        r[i] %= modulus\n",
    "    return trimZero(r)\n",
    "\n",
    "def makeMonic(f, modulus):\n",
    "    r = f.copy()\n",
    "    leadCoefficientInverse = inverse_mod(r[-1], modulus)\n",
    "    for i in range(len(r)):\n",
    "        r[i] *= leadCoefficientInverse\n",
    "        r[i] %= modulus\n",
    "    return r\n",
    "\n",
    "def addPoly(f1, f2):\n",
    "    f3 = [0] * max(len(f1), len(f2))\n",
    "    for i in range(len(f3)):\n",
    "        if i < min(len(f1), len(f2)):\n",
    "            f3[i] = f1[i] + f2[i]\n",
    "        elif len(f1) < len(f2):\n",
    "            f3[i] = f2[i]\n",
    "        else:\n",
    "            f3[i] = f1[i]\n",
    "    return trimZero(f3)\n",
    "\n",
    "def mulPoly(f1, f2):\n",
    "    f3 = [0] * (len(f1) + len(f2))\n",
    "    for i2 in range(len(f2)):\n",
    "        for i1 in range(len(f1)):\n",
    "            f3[i1 + i2] += f1[i1] * f2[i2]\n",
    "    return trimZero(f3)\n",
    "\n",
    "def powPoly(f, p):\n",
    "    r = [1]\n",
    "    for i in range(p):\n",
    "        r = mulPoly(r, f)\n",
    "    return r\n",
    "\n",
    "def getRoots(f):\n",
    "#     print(\"[i] Finding roots of {}...\".format(f))\n",
    "    _x_ = PolynomialRing(RationalField(), 'x').gen()\n",
    "    fInPolyRep = 0\n",
    "    for i in range(len(f)):\n",
    "        fInPolyRep += f[i] * _x_ ^ i\n",
    "    try:\n",
    "        return fInPolyRep.roots()\n",
    "    except:\n",
    "        return []\n",
    "    \n",
    "def genPoly(f):\n",
    "    _x_ = PolynomialRing(RationalField(), 'x').gen()\n",
    "    fInPolyRep = 0\n",
    "    for i in range(len(f)):\n",
    "        fInPolyRep += f[i] * _x_ ^ i\n",
    "    return fInPolyRep\n",
    "\n",
    "def coppersmith(f, modulus, m, X=-1):    \n",
    "    # Assure monic\n",
    "    assert f[-1] == 1\n",
    "    \n",
    "    # Get degree & set X if necessary\n",
    "    degree = len(f) - 1\n",
    "    assert degree >= 1\n",
    "    if X == -1:\n",
    "        X = int(modulus ^ (1 / degree))\n",
    "        if degree == 1:\n",
    "            X -= 1\n",
    "#         print('[No upperbound is set so the algorithm set it to {}]'.format(X))\n",
    "    \n",
    "    print(\"[] Solving {} = 0 mod {} \\n\\tfor x <= {} \\n\\tfor m = {}\".format(genPoly(f), modulus, X, m))\n",
    "    \n",
    "    # Get dim\n",
    "    dimension = (degree) * (m + 1)\n",
    "\n",
    "    # Constructs a matrix.\n",
    "    M = []\n",
    "    for v in range( 0, m+1 ):\n",
    "        for u in range( 0, degree ):\n",
    "            # Generate g(x) function from f(x)\n",
    "            g = mulPoly( mulPoly( [modulus^(m-v)], [0]*u+[1] ), powPoly(f, v) )\n",
    "            \n",
    "            # Create g(xX) from g(x)\n",
    "            for i in range(len(g)):\n",
    "                g[i] *= X^i\n",
    "            \n",
    "            # Append to row\n",
    "            M.append( fillZero(g, dimension) )\n",
    "    \n",
    "    # Convert to matrix\n",
    "    M = matrix(M)\n",
    "#     print(\"[] M:\\n\")\n",
    "#     print(M)\n",
    "    \n",
    "    # Assert if our matrix meets the criteria\n",
    "#     det = 1\n",
    "#     for i in range(dimension):\n",
    "#         det *= M[i, i]\n",
    "#     assert int((det ^ (1/dimension)) * (2 ^ (dimension/4))) < int(modulus ^ m / isqrt(dimension))\n",
    "    \n",
    "    # Apply LLL\n",
    "    M = M.LLL()\n",
    "#     print(\"\\n[] M.LLL():\\n\")\n",
    "#     print(M)\n",
    "    \n",
    "    \n",
    "    # Scroll through the shortest vectors as the new polynomials\n",
    "    roots = []\n",
    "    for row in M:\n",
    "        f = trimZero([int(col) for col in row])\n",
    "        for i in range(len(f)):\n",
    "            assert f[i] % (X^i) == 0\n",
    "            f[i] //= X^i\n",
    "#         print(\"[] f: {}, row: {}\".format(f, row))\n",
    "        roots += getRoots(f)\n",
    "    \n",
    "    # Return unique X component of roots\n",
    "    return list(dict.fromkeys([root[0] for root in roots]))"
   ]
  },
  {
   "cell_type": "code",
   "execution_count": 31,
   "metadata": {},
   "outputs": [
    {
     "name": "stdout",
     "output_type": "stream",
     "text": [
      "[] Solving x^3 + 47298190972240185269476220178340596088836353081445116378536068027238036260007536029108850004945601352606297349885723679405383643302367461484502790870969529687323305335979402680101112848851121392945416415945488141409044383051764536562970815371153552241502386829151320342749813511445946332408698357984654232701*x^2 + 23467246511232973320064004296776948680764616497194610368545931143804649449747218371233847792500538121890138488896610749030765365099362989702464152298831492476199933513000853365917539719636363164050274120497559953526983727331693335977401643170277988164606145482930608650618148429906943906498668590448156293913*x + 57999478643836474067339126693368064839037979297955548145001486286807919797755998252395500875117791125412828060393509556919219356187321576498095043650785790252532978425915153390596259248391960617433395229196200571140609997509562395724991836789638851662285811282909313047681854778835192349650251623537863126664 = 0 mod 95341235345618011251857577682324351171197688101180707030749869409235726634345899397258784261937590128088284421816891826202978052640992678267974129629670862991769812330793126662251062120518795878693122854189330426777286315442926939843468730196970939951374889986320771714519309125434348512571864406646232154103 \n",
      "\tfor x <= 4568359348082369515631313750890080997685812245721993281757229946741472900792944600460663039772269506344 \n",
      "\tfor m = 10\n"
     ]
    },
    {
     "data": {
      "text/plain": [
       "[54378971213289398953784088432450365616857947331656976856187769983595603428029791430301072236126565740]"
      ]
     },
     "execution_count": 31,
     "metadata": {},
     "output_type": "execute_result"
    }
   ],
   "source": [
    "br = ord('}')\n",
    "f = mulPoly([(br^3 - c1) % n, 3 * br^2 * 2^8, 3 * br * 2^16, 2^24], [inverse_mod(2^24, n)])\n",
    "f = modPoly(f, n)\n",
    "coppersmith(f, n, 10)"
   ]
  },
  {
   "cell_type": "code",
   "execution_count": 14,
   "metadata": {},
   "outputs": [
    {
     "name": "stdout",
     "output_type": "stream",
     "text": [
      "[] Solving x + 5 = 0 mod 11 \n",
      "\tfor x <= 10 \n",
      "\tfor m = 3\n",
      "[] f: [-150, -35, 4, 1], row: (-150, -350, 400, 1000)\n",
      "[] f: [-330, -11, 11], row: (-330, -110, 1100, 0)\n",
      "[] f: [1331], row: (1331, 0, 0, 0)\n",
      "[] f: [605, 121], row: (605, 1210, 0, 0)\n"
     ]
    },
    {
     "data": {
      "text/plain": [
       "[(6, 1), (-5, 2), (6, 1), (-5, 1), (-5, 1)]"
      ]
     },
     "execution_count": 14,
     "metadata": {},
     "output_type": "execute_result"
    }
   ],
   "source": [
    "coppersmith([5, 1], 11, 3, 10)"
   ]
  },
  {
   "cell_type": "code",
   "execution_count": 23,
   "metadata": {},
   "outputs": [
    {
     "data": {
      "text/plain": [
       "b'crypto{n0n_574nd4rd_p4d_c0n51d3r3d_h4rmful'"
      ]
     },
     "execution_count": 23,
     "metadata": {},
     "output_type": "execute_result"
    }
   ],
   "source": [
    "from Crypto.Util.number import bytes_to_long, long_to_bytes\n",
    "long_to_bytes(54378971213289398953784088432450365616857947331656976856187769983595603428029791430301072236126565740)"
   ]
  },
  {
   "cell_type": "code",
   "execution_count": null,
   "metadata": {},
   "outputs": [],
   "source": []
  }
 ],
 "metadata": {
  "kernelspec": {
   "display_name": "SageMath 9.0",
   "language": "sage",
   "name": "sagemath"
  },
  "language_info": {
   "codemirror_mode": {
    "name": "ipython",
    "version": 3
   },
   "file_extension": ".py",
   "mimetype": "text/x-python",
   "name": "python",
   "nbconvert_exporter": "python",
   "pygments_lexer": "ipython3",
   "version": "3.8.5"
  }
 },
 "nbformat": 4,
 "nbformat_minor": 4
}
