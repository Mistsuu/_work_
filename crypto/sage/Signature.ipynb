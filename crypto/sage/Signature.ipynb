{
 "cells": [
  {
   "cell_type": "code",
   "execution_count": 32,
   "metadata": {},
   "outputs": [],
   "source": [
    "import telnetlib\n",
    "import json\n",
    "from Crypto.Util.number import bytes_to_long, long_to_bytes\n",
    "from pkcs1 import emsa_pkcs1_v15\n",
    "\n",
    "host = \"socket.cryptohack.org\"\n",
    "port = int(13391)\n",
    "\n",
    "def readline(tn):\n",
    "    return tn.read_until(b\"\\n\")\n",
    "\n",
    "def json_recv(tn):\n",
    "    line = readline(tn)\n",
    "    return json.loads(line.decode())\n",
    "\n",
    "def json_send(hsh, tn):\n",
    "    request = json.dumps(hsh).encode()\n",
    "    tn.write(request)\n",
    "\n",
    "def get_data(data):\n",
    "    tn = telnetlib.Telnet(host, port)\n",
    "    opening = readline(tn)\n",
    "    json_send(data, tn)\n",
    "    return json_recv(tn)"
   ]
  },
  {
   "cell_type": "code",
   "execution_count": 34,
   "metadata": {},
   "outputs": [],
   "source": [
    "N, e, s = list(get_data({\"option\" : \"get_signature\"}).values())"
   ]
  },
  {
   "cell_type": "code",
   "execution_count": 35,
   "metadata": {},
   "outputs": [],
   "source": [
    "N, e, s = int(N, 16), int(e, 16), int(s, 16)"
   ]
  },
  {
   "cell_type": "code",
   "execution_count": 38,
   "metadata": {},
   "outputs": [
    {
     "data": {
      "text/plain": [
       "(16240222270498692025963397327189194914186759237776075999464894124673676202168406293551264617188443991760125496417050643646394332912181570558216262726969063702994049661909903440834938825182904653381794725535440344839391613387669481038012235273006241462239610006309243325799374858562879339721474181202813441789421308660082359229296945383245835120520267434365173357729371625932003278958544143834828992201713760808477670490533374230071254672009364681985991266985556524967416179328197312866725294051113968507425678433774457134172561405246958809795955201013662228331896312017340852384764229288525108749448398056255920050839,\n",
       " 65537,\n",
       " b'U\\xc21\\xee\\xbcd,\\xd1\\xe4A\\x99\\xe1\\t7\\xee\\x8b\\x9e\\x93\\xc0\\xc2\\xd1\\n\\x18\\xb7\\xb5: \\x7f\\xb1\\xdd\\xd4\\xe6\\xc2\\xe0\\x83h\\xa1\\x941\\x87\\xbb\\x1e\\xfe\\x03xVs@\\xa0\\x85\\x17\\x10\\xc4&\\xf6\\t\\xaay\\xd3\\xb5\\xbb?\\x8e\\xfe\\x7fS\\x1c\\xfd\\xb5J\\x9f\\xba\\x9ew\\xe3\\xca*\\xdc\\xec\\xdc)\\x9e\\xbf`\\x1b\\xd8\\x92m\\xd6\\xedN~q\\xf9n\\xf6\\x1c\\xc0A\\x15\\x9e\\xb0XO\\xf4\\xce\\x9f\\r\\x9e\\\\\\xb4\\x9a\\x91\\xba\\x15\"g@\\xf3x4\\x0e@\\x80Z\\xff. \\xe2u\\xb7\\x83\\xaaC\\xa0\\xacg\\x0e\\xc1\\xaf-N\\x83J\\xcc\\xed\\xa1\\x89\\xad\\xd6\\xed}\\xafd\\xed\\x8f\\x9f\\x97\\x18\\xf00\\xc8\\xa7\\xd6J\\xfe\\xe7\\xcf3\\xbe\\xef_y\\x06\\x11\\xea\\xef@\\xe7\\xc9x\\xe25_09\\xa6\\xdfO8\\x11<\\xe8>\\xd6i\\xa73\\xcej\\x93\\xe1\\xfb\\x04\\xfd\\xd6\\xc2\\x88\\x15\\xbe\\xb6\\xb6/\\x88jG\\x15\\x0f\\xbd\\xd3Fh\\xaa\\x7f\\xf5W\\x87\\x87J{g\\x87\\xa5\\x94-\\xa4\\xd7;1\\x97\\xeby+9\\xd0\\xe38\\xf4\\x8f\\xc5\\xf4\\xc0\\x1a\\x16\\xa1x')"
      ]
     },
     "execution_count": 38,
     "metadata": {},
     "output_type": "execute_result"
    }
   ],
   "source": [
    "N, e, long_to_bytes(s)"
   ]
  },
  {
   "cell_type": "code",
   "execution_count": 41,
   "metadata": {},
   "outputs": [],
   "source": [
    "MSG = 'We are hyperreality and Jack and we own CryptoHack.org'\n",
    "DIGEST = emsa_pkcs1_v15.encode(MSG.encode(), 256)"
   ]
  },
  {
   "cell_type": "code",
   "execution_count": null,
   "metadata": {},
   "outputs": [],
   "source": [
    "mod(bytes_to_long(DIGEST), N).multiplicative_order()"
   ]
  },
  {
   "cell_type": "code",
   "execution_count": null,
   "metadata": {},
   "outputs": [],
   "source": []
  }
 ],
 "metadata": {
  "kernelspec": {
   "display_name": "SageMath 9.0",
   "language": "sage",
   "name": "sagemath"
  },
  "language_info": {
   "codemirror_mode": {
    "name": "ipython",
    "version": 3
   },
   "file_extension": ".py",
   "mimetype": "text/x-python",
   "name": "python",
   "nbconvert_exporter": "python",
   "pygments_lexer": "ipython3",
   "version": "3.8.5"
  }
 },
 "nbformat": 4,
 "nbformat_minor": 4
}
