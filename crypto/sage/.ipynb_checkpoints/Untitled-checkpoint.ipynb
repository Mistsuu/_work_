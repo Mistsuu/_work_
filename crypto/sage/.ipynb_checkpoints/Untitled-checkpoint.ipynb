{
 "cells": [
  {
   "cell_type": "code",
   "execution_count": 2,
   "metadata": {},
   "outputs": [],
   "source": [
    "def getPrimoral(k):\n",
    "    r = 1\n",
    "    p = 2\n",
    "    for i in range(k):\n",
    "        while not is_prime(p):\n",
    "            p += 1\n",
    "        r *= p\n",
    "        p += 1\n",
    "    return r"
   ]
  },
  {
   "cell_type": "code",
   "execution_count": 3,
   "metadata": {},
   "outputs": [],
   "source": [
    "M = getPrimoral(39)"
   ]
  },
  {
   "cell_type": "code",
   "execution_count": 4,
   "metadata": {},
   "outputs": [],
   "source": [
    "ordM = mod(65537, M).multiplicative_order()"
   ]
  },
  {
   "cell_type": "code",
   "execution_count": 5,
   "metadata": {},
   "outputs": [
    {
     "data": {
      "text/plain": [
       "97.89712030683688"
      ]
     },
     "execution_count": 5,
     "metadata": {},
     "output_type": "execute_result"
    }
   ],
   "source": [
    "256 + float(log(ordM / M) / log(2))"
   ]
  },
  {
   "cell_type": "code",
   "execution_count": 3,
   "metadata": {},
   "outputs": [],
   "source": [
    "import telnetlib\n",
    "import json\n",
    "\n",
    "host = \"socket.cryptohack.org\"\n",
    "port = int(13386)\n",
    "\n",
    "def readline():\n",
    "    return tn.read_until(b\"\\n\")\n",
    "\n",
    "def json_recv():\n",
    "    line = readline()\n",
    "    return json.loads(line.decode())\n",
    "\n",
    "def json_send(hsh):\n",
    "    request = json.dumps(hsh).encode()\n",
    "    tn.write(request)\n",
    "\n",
    "def get_data():\n",
    "    opening = readline()\n",
    "    json_send({\n",
    "        \"option\" : \"get_flag\"\n",
    "    })\n",
    "    data = json_recv()\n",
    "    return data"
   ]
  },
  {
   "cell_type": "code",
   "execution_count": 58,
   "metadata": {},
   "outputs": [],
   "source": [
    "def trimZero(f):\n",
    "    while len(f) > 0 and f[-1] == 0:\n",
    "        f.pop()\n",
    "    return f\n",
    "\n",
    "def fillZero(f, lenFill):\n",
    "    assert len(f) <= lenFill\n",
    "    return f + [0] * (lenFill - len(f))\n",
    "        \n",
    "def modPoly(f, modulus):\n",
    "    r = f.copy()\n",
    "    for i in range(len(f)):\n",
    "        r[i] %= modulus\n",
    "    return trimZero(r)\n",
    "\n",
    "def makeMonic(f, modulus):\n",
    "    r = f.copy()\n",
    "    leadCoefficientInverse = inverse_mod(r[-1], modulus)\n",
    "    for i in range(len(r)):\n",
    "        r[i] *= leadCoefficientInverse\n",
    "        r[i] %= modulus\n",
    "    return r\n",
    "\n",
    "def mulPoly(f1, f2):\n",
    "    f3 = [0] * (len(f1) + len(f2))\n",
    "    for i2 in range(len(f2)):\n",
    "        for i1 in range(len(f1)):\n",
    "            f3[i1 + i2] += f1[i1] * f2[i2]\n",
    "    return trimZero(f3)\n",
    "\n",
    "def powPoly(f, p):\n",
    "    r = [1]\n",
    "    for i in range(p):\n",
    "        r = mulPoly(r, f)\n",
    "    return r\n",
    "\n",
    "def getRoots(f):\n",
    "    x = PolynomialRing(RationalField(), 'x').gen()\n",
    "    fInPolyRep = 0\n",
    "    for i in range(len(arr)):\n",
    "        fInPolyRep += f[i] * x ^ i\n",
    "    return fInPolyRep.roots()\n",
    "\n",
    "def coppersmithAttack(f, modulus, m, X=-1):\n",
    "    # Assure monic\n",
    "    assert f[-1] == 1\n",
    "    \n",
    "    # Get degree & set X if necessary\n",
    "    degree = len(f) - 1\n",
    "    assert degree >= 1\n",
    "    if X == -1:\n",
    "        X = int(modulus ^ (1 / degree))\n",
    "        print('[No upperbound is set so the algorithm set it to {}]'.format(X))\n",
    "    \n",
    "    # Get dim\n",
    "    dimension = (degree) * (m + 1)\n",
    "\n",
    "    # Constructs a matrix.\n",
    "    M = []\n",
    "    for v in range( 0, m+1 ):\n",
    "        for u in range( 0, degree ):\n",
    "            # Generate g(x) function from f(x)\n",
    "            g = mulPoly( mulPoly( [modulus^(m-v)], [0]*u+[1] ), powPoly(f, v) )\n",
    "            \n",
    "            # Create g(xX) from g(x)\n",
    "            for i in range(len(g)):\n",
    "                g[i] *= X^i\n",
    "            \n",
    "            # Append to row\n",
    "            M.append( fillZero(g, dimension) )\n",
    "    M = matrix(M)\n",
    "    \n",
    "    # Assert if our matrix meets the criteria\n",
    "    det = 1\n",
    "    for i in range(dimension):\n",
    "        det *= M[i, i]\n",
    "    assert int((det ^ (1/dimension)) * (2 ^ (dimension/4))) < int(modulus ^ m / isqrt(dimension))\n",
    "    \n",
    "    # Apply LLL\n",
    "    M.LLL()\n",
    "    \n",
    "    # Get the shortest vector, return as the new polynomial\n",
    "    r = trimZero(M[0])\n",
    "    for i in range(len(r)):\n",
    "        r[i] *= inverse_mod(X^i, modulus)\n",
    "        r[i] %= modulus\n",
    "    return getRoots(r)"
   ]
  },
  {
   "cell_type": "code",
   "execution_count": 35,
   "metadata": {},
   "outputs": [],
   "source": [
    "tn = telnetlib.Telnet(host, port)\n",
    "data = get_data()\n",
    "\n",
    "c    = int(data[\"encrypted_flag\"])\n",
    "N    = int(data[\"modulus\"])\n",
    "a, b = int(data[\"padding\"][0]), int(data[\"padding\"][1])\n",
    "\n",
    "f = modPoly(powPoly([b, a], 11), N)\n",
    "f[0] -= c\n",
    "f = modPoly(f, N)"
   ]
  },
  {
   "cell_type": "code",
   "execution_count": null,
   "metadata": {},
   "outputs": [],
   "source": []
  }
 ],
 "metadata": {
  "kernelspec": {
   "display_name": "SageMath 9.0",
   "language": "sage",
   "name": "sagemath"
  },
  "language_info": {
   "codemirror_mode": {
    "name": "ipython",
    "version": 3
   },
   "file_extension": ".py",
   "mimetype": "text/x-python",
   "name": "python",
   "nbconvert_exporter": "python",
   "pygments_lexer": "ipython3",
   "version": "3.8.5"
  }
 },
 "nbformat": 4,
 "nbformat_minor": 4
}
