{
 "cells": [
  {
   "cell_type": "code",
   "execution_count": 28,
   "metadata": {},
   "outputs": [
    {
     "name": "stdout",
     "output_type": "stream",
     "text": [
      "n = 113586429677596511579053887853919044130026702995667743699460821684431462707581560392960784568333093098458196835901175052451110170630019472846671083911017576478887452419248942289547067828292725096939523780388540811926197804647621624677872706884100590802209309727926615762463434248283836639732632995431802200907\n",
      "e = 3\n",
      "c = 65937656544187747732188760627008291669963945165628442424392836562983985617618932318807924977299106991780198137191025998021419385352979314166305851777045651825257903933860541239813767570086817304184399663357094683419961587266046381983891806287154874856349217552305646222819131242528781758125780151009014483783\n"
     ]
    }
   ],
   "source": [
    "#!/usr/bin/env python3\n",
    "\n",
    "from Crypto.PublicKey import RSA\n",
    "from Crypto.Util.number import bytes_to_long, long_to_bytes\n",
    "\n",
    "FLAG = b\"crypto{???????????????????????????????????}\"\n",
    "\n",
    "\n",
    "def pad100(msg):\n",
    "    return msg + b'\\x00' * (100 - len(msg))\n",
    "\n",
    "\n",
    "key = RSA.generate(1024, e=3)\n",
    "n, e = key.n, key.e\n",
    "\n",
    "m = bytes_to_long(pad100(FLAG))\n",
    "c = pow(m, e, n)\n",
    "\n",
    "print(f\"n = {n}\")\n",
    "print(f\"e = {e}\")\n",
    "print(f\"c = {c}\")\n"
   ]
  },
  {
   "cell_type": "code",
   "execution_count": 29,
   "metadata": {},
   "outputs": [
    {
     "data": {
      "text/plain": [
       "57"
      ]
     },
     "execution_count": 29,
     "metadata": {},
     "output_type": "execute_result"
    }
   ],
   "source": [
    "len(long_to_bytes(m)) - len(FLAG)"
   ]
  },
  {
   "cell_type": "code",
   "execution_count": 30,
   "metadata": {},
   "outputs": [
    {
     "data": {
      "text/plain": [
       "2590293495983295490359990124070141984950985294256468464021346702814898750905069397751390892291844600749572954549300059447502326112507648495896374702284374329902260788551645661550316108137404442693138109324903221441681952279517893154440216576"
      ]
     },
     "execution_count": 30,
     "metadata": {},
     "output_type": "execute_result"
    }
   ],
   "source": [
    "m"
   ]
  },
  {
   "cell_type": "code",
   "execution_count": 41,
   "metadata": {},
   "outputs": [
    {
     "data": {
      "text/plain": [
       "b'crypto{???????????????????????????????????\\x00'"
      ]
     },
     "execution_count": 41,
     "metadata": {},
     "output_type": "execute_result"
    }
   ],
   "source": [
    "long_to_bytes(m  // (2 ** 456) - ord('}'))"
   ]
  },
  {
   "cell_type": "code",
   "execution_count": 6,
   "metadata": {},
   "outputs": [
    {
     "data": {
      "text/plain": [
       "[(1, 2, 3), (4, 5, 6)]"
      ]
     },
     "execution_count": 6,
     "metadata": {},
     "output_type": "execute_result"
    }
   ],
   "source": [
    "matrix([\n",
    "    [1, 2, 3],\n",
    "    [4, 5, 6]\n",
    "]).rows()"
   ]
  },
  {
   "cell_type": "code",
   "execution_count": null,
   "metadata": {},
   "outputs": [],
   "source": []
  }
 ],
 "metadata": {
  "kernelspec": {
   "display_name": "SageMath 9.0",
   "language": "sage",
   "name": "sagemath"
  },
  "language_info": {
   "codemirror_mode": {
    "name": "ipython",
    "version": 3
   },
   "file_extension": ".py",
   "mimetype": "text/x-python",
   "name": "python",
   "nbconvert_exporter": "python",
   "pygments_lexer": "ipython3",
   "version": "3.8.5"
  }
 },
 "nbformat": 4,
 "nbformat_minor": 4
}
